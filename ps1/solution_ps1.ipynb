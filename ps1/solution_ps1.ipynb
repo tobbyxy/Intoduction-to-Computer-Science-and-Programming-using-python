{
 "cells": [
  {
   "cell_type": "markdown",
   "metadata": {},
   "source": [
    "Part A : House Hunting\n",
    "You have graduated from MIT and now have a great job! You move to the San Francisco Bay Area and\n",
    "decide that you want to start saving to buy a house.  As housing prices are very high in the Bay Area,\n",
    "you realize you are going to have to save for several years before you can afford to make the down\n",
    "payment on a house. In Part A, we are going to determine how long it will take you to save enough\n",
    "money to make the down payment given the following assumptions:\n",
    "1. Call the cost of your dream home total_cost​.\n",
    "2. Call the portion of the cost needed for a down payment portion_down_payment​. For\n",
    "simplicity, assume that portion_down_payment = 0.25 (25%).\n",
    "3. Call the amount that you have saved thus far current_savings​. You start with a current\n",
    "savings of $0. \n",
    "4. Assume that you invest your current savings wisely, with an annual return of r ​(in other words,\n",
    "at the end of each month, you receive an additional current_savings*r/12​ funds to put into\n",
    "your savings – the 12 is because r​ is an annual rate). Assume that your investments earn a \n",
    "return of r = 0.04 (4%).\n",
    "5. Assume your annual salary is annual_salary​.\n",
    "6. Assume you are going to dedicate a certain amount of your salary each month to saving for \n",
    "the down payment. Call that portion_saved​. This variable should be in decimal form (i.e. 0.1\n",
    "for 10%). \n",
    "7. At the end of each month, your savings will be increased by the return on your investment,\n",
    "plus a percentage of your monthly salary ​(annual salary / 12)."
   ]
  },
  {
   "cell_type": "markdown",
   "metadata": {},
   "source": [
    "How many months will it take for your current saving to exceed the portion down payment?"
   ]
  },
  {
   "cell_type": "code",
   "execution_count": 3,
   "metadata": {},
   "outputs": [
    {
     "name": "stdout",
     "output_type": "stream",
     "text": [
      "Number of months: 1\n"
     ]
    }
   ],
   "source": [
    "def calculate_months_to_save(annual_salary, portion_saved, total_cost):\n",
    "    current_savings = 0\n",
    "    r = 0.04\n",
    "    portion_down_payment = 0.25 * total_cost\n",
    "    months = 0\n",
    "\n",
    "    while current_savings < portion_down_payment:\n",
    "        monthly_salary = annual_salary / 12\n",
    "        current_savings += monthly_salary * portion_saved + current_savings * r / 12\n",
    "        months += 1\n",
    "\n",
    "    return months\n",
    "\n",
    "def main():\n",
    "    annual_salary = float(input(\"Enter your annual salary: \"))\n",
    "    portion_saved = float(input(\"Enter the portion of salary to be saved, as a decimal: \"))\n",
    "    total_cost = float(input(\"Enter the cost of your dream home: \"))\n",
    "\n",
    "    months = calculate_months_to_save(annual_salary, portion_saved, total_cost)\n",
    "\n",
    "    print(\"Number of months:\", months)\n",
    "\n",
    "if __name__ == \"__main__\":\n",
    "    main()\n"
   ]
  },
  {
   "cell_type": "code",
   "execution_count": 4,
   "metadata": {},
   "outputs": [
    {
     "name": "stdout",
     "output_type": "stream",
     "text": [
      "Number of months: 159\n"
     ]
    }
   ],
   "source": [
    "def calculate_months_to_save(annual_salary, portion_saved, total_cost, semi_annual_raise):\n",
    "    current_savings = 0\n",
    "    r = 0.04\n",
    "    portion_down_payment = 0.25 * total_cost\n",
    "    months = 0\n",
    "\n",
    "    while current_savings < portion_down_payment:\n",
    "        monthly_salary = annual_salary / 12\n",
    "        current_savings += monthly_salary * portion_saved + current_savings * r / 12\n",
    "        months += 1\n",
    "\n",
    "        if months % 6 == 0:\n",
    "            annual_salary += annual_salary * semi_annual_raise\n",
    "\n",
    "    return months\n",
    "\n",
    "def main():\n",
    "    annual_salary = float(input(\"Enter your annual salary: \"))\n",
    "    portion_saved = float(input(\"Enter the portion of salary to be saved, as a decimal: \"))\n",
    "    total_cost = float(input(\"Enter the cost of your dream home: \"))\n",
    "    semi_annual_raise = float(input(\"Enter the semi-annual raise, as a decimal: \"))\n",
    "\n",
    "    months = calculate_months_to_save(annual_salary, portion_saved, total_cost, semi_annual_raise)\n",
    "\n",
    "    print(\"Number of months:\", months)\n",
    "\n",
    "if __name__ == \"__main__\":\n",
    "    main()"
   ]
  }
 ],
 "metadata": {
  "kernelspec": {
   "display_name": "Python 3",
   "language": "python",
   "name": "python3"
  },
  "language_info": {
   "codemirror_mode": {
    "name": "ipython",
    "version": 3
   },
   "file_extension": ".py",
   "mimetype": "text/x-python",
   "name": "python",
   "nbconvert_exporter": "python",
   "pygments_lexer": "ipython3",
   "version": "3.11.5"
  }
 },
 "nbformat": 4,
 "nbformat_minor": 2
}
