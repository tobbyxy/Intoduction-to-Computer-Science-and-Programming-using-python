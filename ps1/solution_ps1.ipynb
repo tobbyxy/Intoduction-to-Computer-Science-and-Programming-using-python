{
 "cells": [
  {
   "cell_type": "markdown",
   "metadata": {},
   "source": [
    "Part A : House Hunting\n",
    "You have graduated from MIT and now have a great job! You move to the San Francisco Bay Area and\n",
    "decide that you want to start saving to buy a house.  As housing prices are very high in the Bay Area,\n",
    "you realize you are going to have to save for several years before you can afford to make the down\n",
    "payment on a house. In Part A, we are going to determine how long it will take you to save enough\n",
    "money to make the down payment given the following assumptions:\n",
    "1. Call the cost of your dream home total_cost​.\n",
    "2. Call the portion of the cost needed for a down payment portion_down_payment​. For\n",
    "simplicity, assume that portion_down_payment = 0.25 (25%).\n",
    "3. Call the amount that you have saved thus far current_savings​. You start with a current\n",
    "savings of $0. \n",
    "4. Assume that you invest your current savings wisely, with an annual return of r ​(in other words,\n",
    "at the end of each month, you receive an additional current_savings*r/12​ funds to put into\n",
    "your savings – the 12 is because r​ is an annual rate). Assume that your investments earn a \n",
    "return of r = 0.04 (4%).\n",
    "5. Assume your annual salary is annual_salary​.\n",
    "6. Assume you are going to dedicate a certain amount of your salary each month to saving for \n",
    "the down payment. Call that portion_saved​. This variable should be in decimal form (i.e. 0.1\n",
    "for 10%). \n",
    "7. At the end of each month, your savings will be increased by the return on your investment,\n",
    "plus a percentage of your monthly salary ​(annual salary / 12)."
   ]
  },
  {
   "cell_type": "markdown",
   "metadata": {},
   "source": [
    "How many months will it take for your current saving to exceed the portion down payment?"
   ]
  },
  {
   "cell_type": "code",
   "execution_count": 3,
   "metadata": {},
   "outputs": [
    {
     "name": "stdout",
     "output_type": "stream",
     "text": [
      "Number of months: 1\n"
     ]
    }
   ],
   "source": [
    "def calculate_months_to_save(annual_salary, portion_saved, total_cost):\n",
    "    current_savings = 0\n",
    "    r = 0.04\n",
    "    portion_down_payment = 0.25 * total_cost\n",
    "    months = 0\n",
    "\n",
    "    while current_savings < portion_down_payment:\n",
    "        monthly_salary = annual_salary / 12\n",
    "        current_savings += monthly_salary * portion_saved + current_savings * r / 12\n",
    "        months += 1\n",
    "\n",
    "    return months\n",
    "\n",
    "def main():\n",
    "    annual_salary = float(input(\"Enter your annual salary: \"))\n",
    "    portion_saved = float(input(\"Enter the portion of salary to be saved, as a decimal: \"))\n",
    "    total_cost = float(input(\"Enter the cost of your dream home: \"))\n",
    "\n",
    "    months = calculate_months_to_save(annual_salary, portion_saved, total_cost)\n",
    "\n",
    "    print(\"Number of months:\", months)\n",
    "\n",
    "if __name__ == \"__main__\":\n",
    "    main()\n"
   ]
  },
  {
   "cell_type": "code",
   "execution_count": 4,
   "metadata": {},
   "outputs": [
    {
     "name": "stdout",
     "output_type": "stream",
     "text": [
      "Number of months: 159\n"
     ]
    }
   ],
   "source": [
    "def calculate_months_to_save(annual_salary, portion_saved, total_cost, semi_annual_raise):\n",
    "    current_savings = 0\n",
    "    r = 0.04\n",
    "    portion_down_payment = 0.25 * total_cost\n",
    "    months = 0\n",
    "\n",
    "    while current_savings < portion_down_payment:\n",
    "        monthly_salary = annual_salary / 12\n",
    "        current_savings += monthly_salary * portion_saved + current_savings * r / 12\n",
    "        months += 1\n",
    "\n",
    "        if months % 6 == 0:\n",
    "            annual_salary += annual_salary * semi_annual_raise\n",
    "\n",
    "    return months\n",
    "\n",
    "def main():\n",
    "    annual_salary = float(input(\"Enter your annual salary: \"))\n",
    "    portion_saved = float(input(\"Enter the portion of salary to be saved, as a decimal: \"))\n",
    "    total_cost = float(input(\"Enter the cost of your dream home: \"))\n",
    "    semi_annual_raise = float(input(\"Enter the semi-annual raise, as a decimal: \"))\n",
    "\n",
    "    months = calculate_months_to_save(annual_salary, portion_saved, total_cost, semi_annual_raise)\n",
    "\n",
    "    print(\"Number of months:\", months)\n",
    "\n",
    "if __name__ == \"__main__\":\n",
    "    main()"
   ]
  },
  {
   "cell_type": "markdown",
   "metadata": {},
   "source": [
    "Part C: Finding the right amount to save away\n",
    "In Part B, you had a chance to explore how both the percentage of your salary that you save each month \n",
    "and your annual raise affect how long it takes you to save for a down payment.  This is nice, but\n",
    "suppose you want to set a particular goal, e.g. to be able to afford the down payment in three years.\n",
    "How much should you save each month to achieve this?  In this problem, you are going to write a \n",
    "program to answer that question.  To simplify things, assume:\n",
    "3\n",
    "1. Your semi­annual raise is .07 (7%)\n",
    "2. Your investments have an annual return of 0.04 (4%)  \n",
    "3. The down payment is 0.25 (25%) of the cost of the house \n",
    "4. The cost of the house that you are saving for is $1M.\n",
    "You are now going to try to find the best rate of savings to achieve a down payment on a $1M house in \n",
    "36 months. Since hitting this exactly is a challenge, we simply want your savings to be within $100 of \n",
    "the required down payment. \n",
    "In ps1c.py​, write a program to calculate the best savings rate, as a function of your starting salary.\n",
    "You should use bisection search​ to help you do this efficiently. You should keep track of the number of \n",
    "steps it takes your bisections search to finish. You should be able to reuse some of the code you wrote\n",
    "for part B in this problem.  \n",
    "Because we are searching for a value that is in principle a float, we are going to limit ourselves to two\n",
    "decimals of accuracy (i.e., we may want to save at 7.04% ­­ or 0.0704 in decimal – but we are not \n",
    "going to worry about the difference between 7.041% and 7.039%).  This means we can search for an\n",
    "integer​ between 0 and 10000 (using integer division), and then convert it to a decimal percentage\n",
    "(using float division) to use when we are calculating the current_savings​ after 36 months. By using\n",
    "this range, there are only a finite number of numbers that we are searching over, as opposed to the\n",
    "infinite number of decimals between 0 and 1. This range will help prevent infinite loops. The reason we\n",
    "use 0 to 10000 is to account for two additional decimal places in the range 0% to 100%. Your code\n",
    "should print out a decimal (e.g. 0.0704 for 7.04%).\n",
    "Try different inputs for your starting salary, and see how the percentage you need to save changes to\n",
    "reach your desired down payment.  Also keep in mind it may not be possible for to save a down\n",
    "payment in a year and a half for some salaries. In this case your function should notify the user that it \n",
    "is not possible to save for the down payment in 36 months with a print statement. Please make your\n",
    "program print results in the format shown in the test cases below"
   ]
  },
  {
   "cell_type": "code",
   "execution_count": 5,
   "metadata": {},
   "outputs": [
    {
     "name": "stdout",
     "output_type": "stream",
     "text": [
      "Best savings rate: 0.4167\n",
      "Steps in bisection search: 12\n"
     ]
    }
   ],
   "source": [
    "def calculate_savings_rate(annual_salary, total_cost=1e6, months=36, semi_annual_raise=0.07):\n",
    "    portion_down_payment = 0.25 * total_cost\n",
    "    r = 0.04\n",
    "\n",
    "    # Initialize search range for bisection search\n",
    "    low = 0\n",
    "    high = 10000\n",
    "\n",
    "    steps = 0\n",
    "    current_savings = 0\n",
    "    while abs(current_savings - portion_down_payment) >= 100:\n",
    "        steps += 1\n",
    "        portion_saved = (low + high) / 2 / 10000\n",
    "        current_savings = 0\n",
    "        salary = annual_salary\n",
    "\n",
    "        for _ in range(months):\n",
    "            current_savings += current_savings * r / 12 + portion_saved * salary / 12\n",
    "            if _ % 6 == 0:\n",
    "                salary += salary * semi_annual_raise\n",
    "\n",
    "        if current_savings < portion_down_payment:\n",
    "            low = (low + high) / 2\n",
    "        else:\n",
    "            high = (low + high) / 2\n",
    "\n",
    "        if steps > 100:  # Break if not converging\n",
    "            return None, steps\n",
    "\n",
    "    return portion_saved, steps\n",
    "\n",
    "# Test the function\n",
    "annual_salary = 150000\n",
    "savings_rate, steps = calculate_savings_rate(annual_salary)\n",
    "if savings_rate is None:\n",
    "    print(\"It is not possible to pay the down payment in three years.\")\n",
    "else:\n",
    "    print(f\"Best savings rate: {savings_rate:.4f}\\nSteps in bisection search: {steps}\")\n",
    "    "
   ]
  }
 ],
 "metadata": {
  "kernelspec": {
   "display_name": "Python 3",
   "language": "python",
   "name": "python3"
  },
  "language_info": {
   "codemirror_mode": {
    "name": "ipython",
    "version": 3
   },
   "file_extension": ".py",
   "mimetype": "text/x-python",
   "name": "python",
   "nbconvert_exporter": "python",
   "pygments_lexer": "ipython3",
   "version": "3.11.5"
  }
 },
 "nbformat": 4,
 "nbformat_minor": 2
}
